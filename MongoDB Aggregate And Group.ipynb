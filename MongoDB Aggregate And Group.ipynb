{
 "cells": [
  {
   "cell_type": "markdown",
   "id": "02709975",
   "metadata": {},
   "source": [
    "### MongoDB Aggregate And Group\n",
    "\n",
    "1. avg\n",
    "2. sum\n",
    "\n",
    "\n",
    "$ means operator or feature"
   ]
  },
  {
   "cell_type": "code",
   "execution_count": 3,
   "id": "de0b334b",
   "metadata": {},
   "outputs": [
    {
     "data": {
      "text/plain": [
       "InsertManyResult([ObjectId('66754dbe9663a4ff6ca26834'), ObjectId('66754dbe9663a4ff6ca26835'), ObjectId('66754dbe9663a4ff6ca26836'), ObjectId('66754dbe9663a4ff6ca26837'), ObjectId('66754dbe9663a4ff6ca26838'), ObjectId('66754dbe9663a4ff6ca26839')], acknowledged=True)"
      ]
     },
     "execution_count": 3,
     "metadata": {},
     "output_type": "execute_result"
    }
   ],
   "source": [
    "from pymongo import MongoClient\n",
    "\n",
    "# Creation of object MongoClient\n",
    "client = MongoClient(\"mongodb://127.0.0.1:27017/\")\n",
    "\n",
    "# Access database\n",
    "mydatabase = client[\"Students\"]\n",
    "\n",
    "# Access collection of the database\n",
    "collection = mydatabase[\"studentscores\"]\n",
    "data = [ \n",
    "    {\"user\":\"Rohit\", \"subject\":\"Database\", \"score\":80}, \n",
    "    {\"user\":\"Krish\",  \"subject\":\"JavaScript\", \"score\":90}, \n",
    "    {\"user\":\"Krish\",  \"title\":\"Database\", \"score\":85}, \n",
    "    {\"user\":\"Aniket\",  \"title\":\"JavaScript\", \"score\":75}, \n",
    "    {\"user\":\"Krish\",  \"title\":\"Data Science\", \"score\":60},\n",
    "    {\"user\":\"Rohit\",  \"title\":\"Data Science\", \"score\":95}] \n",
    "  \n",
    "collection.insert_many(data)"
   ]
  },
  {
   "cell_type": "code",
   "execution_count": 4,
   "id": "4e72b546",
   "metadata": {},
   "outputs": [
    {
     "name": "stdout",
     "output_type": "stream",
     "text": [
      "{'_id': 'Rohit', 'Total Subjects': 2}\n",
      "{'_id': 'Krish', 'Total Subjects': 3}\n",
      "{'_id': 'Aniket', 'Total Subjects': 1}\n"
     ]
    }
   ],
   "source": [
    "### Find Total subject for a user\n",
    "agg_result = collection.aggregate(\n",
    "    [{\n",
    "    \"$group\":\n",
    "        {\"_id\": \"$user\",\n",
    "        \"Total Subjects\": {\"$sum\": 1}}\n",
    "    }]\n",
    ")\n",
    "\n",
    "for i in agg_result:\n",
    "    print(i)"
   ]
  },
  {
   "cell_type": "code",
   "execution_count": 5,
   "id": "2d120805",
   "metadata": {},
   "outputs": [
    {
     "name": "stdout",
     "output_type": "stream",
     "text": [
      "{'_id': 'Rohit', 'Total Subjects': 175}\n",
      "{'_id': 'Krish', 'Total Subjects': 235}\n",
      "{'_id': 'Aniket', 'Total Subjects': 75}\n"
     ]
    }
   ],
   "source": [
    "### Calculating the total score\n",
    "agg_result = collection.aggregate(\n",
    "    [{\n",
    "    \"$group\":  # $group is a operator\n",
    "        {\"_id\": \"$user\",  # $user is a filter\n",
    "        \"Total Subjects\": {\"$sum\": \"$score\"}}  # $score is a filter and $sum is operator\n",
    "    }]\n",
    ")\n",
    "for i in agg_result:\n",
    "    print(i)"
   ]
  },
  {
   "cell_type": "code",
   "execution_count": 6,
   "id": "96edc85f",
   "metadata": {},
   "outputs": [
    {
     "name": "stdout",
     "output_type": "stream",
     "text": [
      "{'_id': 'Aniket', 'StudentScoreAverage': 75.0}\n",
      "{'_id': 'Rohit', 'StudentScoreAverage': 87.5}\n",
      "{'_id': 'Krish', 'StudentScoreAverage': 78.33333333333333}\n"
     ]
    }
   ],
   "source": [
    "### Calculating the average score based on user\n",
    "agg_result = collection.aggregate([\n",
    "    {\n",
    "    \"$group\":\n",
    "        {\"_id\": \"$user\",\n",
    "        \"StudentScoreAverage\": {\n",
    "            \"$avg\": \"$score\"\n",
    "        }\n",
    "    }\n",
    "}\n",
    "])\n",
    "for i in agg_result:\n",
    "    print(i)"
   ]
  },
  {
   "cell_type": "code",
   "execution_count": 9,
   "id": "2f3c3b50",
   "metadata": {},
   "outputs": [],
   "source": [
    "import datetime as datetime"
   ]
  },
  {
   "cell_type": "code",
   "execution_count": 10,
   "id": "d431931a",
   "metadata": {},
   "outputs": [],
   "source": [
    "### Create a new collection\n",
    "data=[{ \"_id\" : 1, \"item\" : \"abc\", \"price\" : 10, \"quantity\" : 2, \"date\" : datetime.datetime.utcnow()},\n",
    "{ \"_id\" : 2, \"item\" : \"jkl\", \"price\" : 20, \"quantity\" : 1, \"date\" : datetime.datetime.utcnow() },\n",
    "{ \"_id\" : 3, \"item\" : \"xyz\", \"price\" : 5, \"quantity\" : 5, \"date\" : datetime.datetime.utcnow() },\n",
    "{ \"_id\" : 4, \"item\" : \"abc\", \"price\" : 10, \"quantity\" : 10, \"date\" : datetime.datetime.utcnow() },\n",
    "{ \"_id\" : 5, \"item\" : \"xyz\", \"price\" : 5, \"quantity\" : 10, \"date\" :datetime.datetime.utcnow() }]\n"
   ]
  },
  {
   "cell_type": "code",
   "execution_count": 11,
   "id": "dd4d384c",
   "metadata": {},
   "outputs": [
    {
     "data": {
      "text/plain": [
       "[{'_id': 1,\n",
       "  'item': 'abc',\n",
       "  'price': 10,\n",
       "  'quantity': 2,\n",
       "  'date': datetime.datetime(2024, 6, 21, 10, 22, 36, 297369)},\n",
       " {'_id': 2,\n",
       "  'item': 'jkl',\n",
       "  'price': 20,\n",
       "  'quantity': 1,\n",
       "  'date': datetime.datetime(2024, 6, 21, 10, 22, 36, 297369)},\n",
       " {'_id': 3,\n",
       "  'item': 'xyz',\n",
       "  'price': 5,\n",
       "  'quantity': 5,\n",
       "  'date': datetime.datetime(2024, 6, 21, 10, 22, 36, 297369)},\n",
       " {'_id': 4,\n",
       "  'item': 'abc',\n",
       "  'price': 10,\n",
       "  'quantity': 10,\n",
       "  'date': datetime.datetime(2024, 6, 21, 10, 22, 36, 297369)},\n",
       " {'_id': 5,\n",
       "  'item': 'xyz',\n",
       "  'price': 5,\n",
       "  'quantity': 10,\n",
       "  'date': datetime.datetime(2024, 6, 21, 10, 22, 36, 297369)}]"
      ]
     },
     "execution_count": 11,
     "metadata": {},
     "output_type": "execute_result"
    }
   ],
   "source": [
    "data"
   ]
  },
  {
   "cell_type": "code",
   "execution_count": 12,
   "id": "d6dfa9e1",
   "metadata": {},
   "outputs": [
    {
     "data": {
      "text/plain": [
       "InsertManyResult([1, 2, 3, 4, 5], acknowledged=True)"
      ]
     },
     "execution_count": 12,
     "metadata": {},
     "output_type": "execute_result"
    }
   ],
   "source": [
    "mycollection = mydatabase[\"stores\"]\n",
    "mycollection.insert_many(data)"
   ]
  },
  {
   "cell_type": "code",
   "execution_count": 13,
   "id": "c9ba76de",
   "metadata": {},
   "outputs": [
    {
     "name": "stdout",
     "output_type": "stream",
     "text": [
      "{'_id': 'abc', 'avgAmount': 60.0, 'avgQuantity': 6.0}\n",
      "{'_id': 'jkl', 'avgAmount': 20.0, 'avgQuantity': 1.0}\n",
      "{'_id': 'xyz', 'avgAmount': 37.5, 'avgQuantity': 7.5}\n"
     ]
    }
   ],
   "source": [
    "### Calculating the average quantity and average \n",
    "agg_result = mycollection.aggregate([\n",
    "    {\n",
    "    \"$group\":\n",
    "        {\"_id\": \"$item\",\n",
    "        \"avgAmount\": {\"$avg\": {\"$multiply\": [\"$price\", \"$quantity\"]}},\n",
    "         \"avgQuantity\": {\"$avg\": \"$quantity\"}\n",
    "    }\n",
    "}\n",
    "])\n",
    "for i in agg_result:\n",
    "    print(i)"
   ]
  },
  {
   "cell_type": "code",
   "execution_count": null,
   "id": "562da639",
   "metadata": {},
   "outputs": [],
   "source": []
  }
 ],
 "metadata": {
  "kernelspec": {
   "display_name": "Python 3 (ipykernel)",
   "language": "python",
   "name": "python3"
  },
  "language_info": {
   "codemirror_mode": {
    "name": "ipython",
    "version": 3
   },
   "file_extension": ".py",
   "mimetype": "text/x-python",
   "name": "python",
   "nbconvert_exporter": "python",
   "pygments_lexer": "ipython3",
   "version": "3.11.5"
  }
 },
 "nbformat": 4,
 "nbformat_minor": 5
}
