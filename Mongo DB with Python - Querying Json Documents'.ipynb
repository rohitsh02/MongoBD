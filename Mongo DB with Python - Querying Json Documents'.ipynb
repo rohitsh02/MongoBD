{
 "cells": [
  {
   "cell_type": "code",
   "execution_count": 3,
   "id": "975ebc74",
   "metadata": {},
   "outputs": [],
   "source": [
    "import pymongo\n",
    "\n",
    "client = pymongo.MongoClient(\"mongodb://127.0.0.1:27017/\")\n",
    "\n",
    "mydb = client[\"Employee\"]\n",
    "empinfo = mydb.employeeinformation"
   ]
  },
  {
   "cell_type": "code",
   "execution_count": 5,
   "id": "5fb86ade",
   "metadata": {},
   "outputs": [
    {
     "data": {
      "text/plain": [
       "InsertOneResult(ObjectId('667537612d65156630e1565b'), acknowledged=True)"
      ]
     },
     "execution_count": 5,
     "metadata": {},
     "output_type": "execute_result"
    }
   ],
   "source": [
    "record = {\n",
    "    'firstname': 'Rohit',\n",
    "    'lastname': 'Shende',\n",
    "    'department': 'Electrical',\n",
    "    'qualification': 'BE',\n",
    "    'age': 24\n",
    "}\n",
    "empinfo.insert_one(record)"
   ]
  },
  {
   "cell_type": "code",
   "execution_count": 6,
   "id": "ae450a59",
   "metadata": {},
   "outputs": [],
   "source": [
    "records = [{\n",
    "        'firstname': 'John',\n",
    "        'lastname': 'Shende',\n",
    "        'department': 'Electrical',\n",
    "        'qualification': 'statistics',\n",
    "        'age': 25\n",
    "    },\n",
    "    {\n",
    "        'firstname': 'John',\n",
    "        'lastname': 'Smith',\n",
    "        'department': 'Electrical',\n",
    "        'qualification': 'masters',\n",
    "        'age': 30\n",
    "    },\n",
    "    {\n",
    "        'firstname': 'Manish',\n",
    "        'lastname': 'Shende',\n",
    "        'department': 'Electrical',\n",
    "        'qualification': 'phd',\n",
    "        'age': 34\n",
    "    },\n",
    "    {\n",
    "        'firstname': 'Ram',\n",
    "        'lastname': 'Shende',\n",
    "        'department': 'Electrical',\n",
    "        'qualification': 'masters',\n",
    "        'age': 32\n",
    "    }]"
   ]
  },
  {
   "cell_type": "code",
   "execution_count": 7,
   "id": "7135c687",
   "metadata": {},
   "outputs": [
    {
     "data": {
      "text/plain": [
       "InsertManyResult([ObjectId('667538ea2d65156630e1565c'), ObjectId('667538ea2d65156630e1565d'), ObjectId('667538ea2d65156630e1565e'), ObjectId('667538ea2d65156630e1565f')], acknowledged=True)"
      ]
     },
     "execution_count": 7,
     "metadata": {},
     "output_type": "execute_result"
    }
   ],
   "source": [
    "empinfo.insert_many(records)"
   ]
  },
  {
   "cell_type": "code",
   "execution_count": 8,
   "id": "01a06e53",
   "metadata": {},
   "outputs": [
    {
     "data": {
      "text/plain": [
       "{'_id': ObjectId('667537612d65156630e1565b'),\n",
       " 'firstname': 'Rohit',\n",
       " 'lastname': 'Shende',\n",
       " 'department': 'Electrical',\n",
       " 'qualification': 'BE',\n",
       " 'age': 24}"
      ]
     },
     "execution_count": 8,
     "metadata": {},
     "output_type": "execute_result"
    }
   ],
   "source": [
    "## Simple way of querying\n",
    "empinfo.find_one()  # selecting top one record"
   ]
  },
  {
   "cell_type": "code",
   "execution_count": 10,
   "id": "ab844a40",
   "metadata": {},
   "outputs": [
    {
     "data": {
      "text/plain": [
       "<pymongo.cursor.Cursor at 0x19d85d66a10>"
      ]
     },
     "execution_count": 10,
     "metadata": {},
     "output_type": "execute_result"
    }
   ],
   "source": [
    "## Select * from employeeinformation\n",
    "empinfo.find({})"
   ]
  },
  {
   "cell_type": "code",
   "execution_count": 12,
   "id": "4d7c61e3",
   "metadata": {},
   "outputs": [
    {
     "name": "stdout",
     "output_type": "stream",
     "text": [
      "{'_id': ObjectId('667537612d65156630e1565b'), 'firstname': 'Rohit', 'lastname': 'Shende', 'department': 'Electrical', 'qualification': 'BE', 'age': 24}\n",
      "{'_id': ObjectId('667538ea2d65156630e1565c'), 'firstname': 'John', 'lastname': 'Shende', 'department': 'Electrical', 'qualification': 'statistics', 'age': 25}\n",
      "{'_id': ObjectId('667538ea2d65156630e1565d'), 'firstname': 'John', 'lastname': 'Smith', 'department': 'Electrical', 'qualification': 'masters', 'age': 30}\n",
      "{'_id': ObjectId('667538ea2d65156630e1565e'), 'firstname': 'Manish', 'lastname': 'Shende', 'department': 'Electrical', 'qualification': 'phd', 'age': 34}\n",
      "{'_id': ObjectId('667538ea2d65156630e1565f'), 'firstname': 'Ram', 'lastname': 'Shende', 'department': 'Electrical', 'qualification': 'masters', 'age': 32}\n"
     ]
    }
   ],
   "source": [
    "for record in empinfo.find({}):\n",
    "    print(record)"
   ]
  },
  {
   "cell_type": "code",
   "execution_count": 13,
   "id": "e3ad9327",
   "metadata": {},
   "outputs": [
    {
     "name": "stdout",
     "output_type": "stream",
     "text": [
      "{'_id': ObjectId('667537612d65156630e1565b'), 'firstname': 'Rohit', 'lastname': 'Shende', 'department': 'Electrical', 'qualification': 'BE', 'age': 24}\n"
     ]
    }
   ],
   "source": [
    "## Query the json documents based on equality condition\n",
    "# Select * from employeeinformation where firstname = Rohit\n",
    "\n",
    "for record in empinfo.find({'firstname': 'Rohit'}):\n",
    "    print(record)"
   ]
  },
  {
   "cell_type": "code",
   "execution_count": 14,
   "id": "affcadfe",
   "metadata": {},
   "outputs": [
    {
     "name": "stdout",
     "output_type": "stream",
     "text": [
      "{'_id': ObjectId('667538ea2d65156630e1565d'), 'firstname': 'John', 'lastname': 'Smith', 'department': 'Electrical', 'qualification': 'masters', 'age': 30}\n",
      "{'_id': ObjectId('667538ea2d65156630e1565e'), 'firstname': 'Manish', 'lastname': 'Shende', 'department': 'Electrical', 'qualification': 'phd', 'age': 34}\n",
      "{'_id': ObjectId('667538ea2d65156630e1565f'), 'firstname': 'Ram', 'lastname': 'Shende', 'department': 'Electrical', 'qualification': 'masters', 'age': 32}\n"
     ]
    }
   ],
   "source": [
    "## Query documents using query operators($in, $lt, $gt)\n",
    "for record in empinfo .find({'qualification':{'$in':['phd', 'masters']}}):\n",
    "    print(record)"
   ]
  },
  {
   "cell_type": "markdown",
   "id": "c47e5f92",
   "metadata": {},
   "source": [
    "## Operators\n",
    "$lt = less than\n",
    "\n",
    "$gt = greater than"
   ]
  },
  {
   "cell_type": "code",
   "execution_count": 15,
   "id": "12ab5489",
   "metadata": {},
   "outputs": [
    {
     "name": "stdout",
     "output_type": "stream",
     "text": [
      "{'_id': ObjectId('667538ea2d65156630e1565d'), 'firstname': 'John', 'lastname': 'Smith', 'department': 'Electrical', 'qualification': 'masters', 'age': 30}\n",
      "{'_id': ObjectId('667538ea2d65156630e1565f'), 'firstname': 'Ram', 'lastname': 'Shende', 'department': 'Electrical', 'qualification': 'masters', 'age': 32}\n"
     ]
    }
   ],
   "source": [
    "## And and Query operators\n",
    "for record in empinfo.find({'qualification': 'masters', 'age':{'$lt': 35}}):\n",
    "    print(record)"
   ]
  },
  {
   "cell_type": "code",
   "execution_count": 19,
   "id": "9022c5f0",
   "metadata": {},
   "outputs": [
    {
     "name": "stdout",
     "output_type": "stream",
     "text": [
      "{'_id': ObjectId('667537612d65156630e1565b'), 'firstname': 'Rohit', 'lastname': 'Shende', 'department': 'Electrical', 'qualification': 'BE', 'age': 24}\n",
      "{'_id': ObjectId('667538ea2d65156630e1565d'), 'firstname': 'John', 'lastname': 'Smith', 'department': 'Electrical', 'qualification': 'masters', 'age': 30}\n",
      "{'_id': ObjectId('667538ea2d65156630e1565f'), 'firstname': 'Ram', 'lastname': 'Shende', 'department': 'Electrical', 'qualification': 'masters', 'age': 32}\n"
     ]
    }
   ],
   "source": [
    "## OR operators($or)\n",
    "for record in empinfo.find({'$or':[{'firstname':'Rohit'}, {'qualification': 'masters'}]}):\n",
    "    print(record)"
   ]
  },
  {
   "cell_type": "code",
   "execution_count": 20,
   "id": "e0d53d7c",
   "metadata": {},
   "outputs": [],
   "source": [
    "inventory = mydb.inventory"
   ]
  },
  {
   "cell_type": "code",
   "execution_count": 21,
   "id": "2dafeef3",
   "metadata": {},
   "outputs": [
    {
     "data": {
      "text/plain": [
       "InsertManyResult([ObjectId('66753ebd2d65156630e15660'), ObjectId('66753ebd2d65156630e15661'), ObjectId('66753ebd2d65156630e15662'), ObjectId('66753ebd2d65156630e15663'), ObjectId('66753ebd2d65156630e15664')], acknowledged=True)"
      ]
     },
     "execution_count": 21,
     "metadata": {},
     "output_type": "execute_result"
    }
   ],
   "source": [
    "inventory.insert_many( [\n",
    "   { 'item': \"journal\", 'qty': 25, 'size': { 'h': 14, 'w': 21,'uom': \"cm\" }, 'status': \"A\" },\n",
    "   { 'item': \"notebook\", 'qty': 50,'size': { 'h': 8.5, 'w': 11,'uom': \"in\" },'status': \"A\" },\n",
    "   { 'item': \"paper\", 'qty': 100, 'size': { 'h': 8.5, 'w': 11,'uom': \"in\" },'status': \"D\" },\n",
    "   { 'item': \"planner\", 'qty': 75, 'size': { 'h': 22.85,'w': 30,'uom': \"cm\" },'status': \"D\" },\n",
    "   { 'item': \"postcard\", 'qty': 45, 'size': { 'h': 10, 'w': 15.25,'uom': \"cm\" },'status': \"A\" }\n",
    "])"
   ]
  },
  {
   "cell_type": "code",
   "execution_count": 22,
   "id": "e135ba8c",
   "metadata": {},
   "outputs": [
    {
     "name": "stdout",
     "output_type": "stream",
     "text": [
      "{'_id': ObjectId('66753ebd2d65156630e15660'), 'item': 'journal', 'qty': 25, 'size': {'h': 14, 'w': 21, 'uom': 'cm'}, 'status': 'A'}\n"
     ]
    }
   ],
   "source": [
    "for records in inventory.find({'size': {'h':14, 'w':21, 'uom': 'cm'}}):\n",
    "    print(records)"
   ]
  },
  {
   "cell_type": "code",
   "execution_count": null,
   "id": "5a3fd5cc",
   "metadata": {},
   "outputs": [],
   "source": []
  }
 ],
 "metadata": {
  "kernelspec": {
   "display_name": "Python 3 (ipykernel)",
   "language": "python",
   "name": "python3"
  },
  "language_info": {
   "codemirror_mode": {
    "name": "ipython",
    "version": 3
   },
   "file_extension": ".py",
   "mimetype": "text/x-python",
   "name": "python",
   "nbconvert_exporter": "python",
   "pygments_lexer": "ipython3",
   "version": "3.11.5"
  }
 },
 "nbformat": 4,
 "nbformat_minor": 5
}
